{
 "cells": [
  {
   "cell_type": "markdown",
   "metadata": {
    "collapsed": true,
    "pycharm": {
     "name": "#%% md\n"
    }
   },
   "source": [
    "_This notebook was put together by [Keneth Garcia](https://stivengarcia7113.wixsite.com/kenethgarcia). Source and license info are on [GitHub](https://github.com/KenethGarcia/GRB_ML)._"
   ]
  },
  {
   "cell_type": "markdown",
   "source": [
    "# Swift Data Download\n",
    "The Neil Gehrels Swift Observatory presents analysis results for the Swift/BAT Gamma-Ray Burst (GRBs) on [this website](https://swift.gsfc.nasa.gov/results/batgrbcat/) (open access).\n",
    "\n",
    "This notebook summarizes how to download these data in different resolutions. Through this document, we are using the _python3_ implementations from the _scripts_ folder. It is necessary to have an internet connection and a _Jupyter Notebook_/_Python 3_ compiler software.\n",
    "\n",
    "First, we need to import the **main.py** file to our notebook (and some packages needed):"
   ],
   "metadata": {
    "collapsed": false,
    "pycharm": {
     "name": "#%% md\n"
    }
   }
  },
  {
   "cell_type": "code",
   "execution_count": 1,
   "outputs": [],
   "source": [
    "from scripts import main\n",
    "import os  # Packages needed in this notebook\n",
    "import numpy as np"
   ],
   "metadata": {
    "collapsed": false,
    "pycharm": {
     "name": "#%%\n"
    }
   }
  },
  {
   "cell_type": "markdown",
   "source": [
    "Then, create a new object from the `main.py` class and, if you need, set the download path (by default it will be the folder containing this notebook):"
   ],
   "metadata": {
    "collapsed": false,
    "pycharm": {
     "name": "#%% md\n"
    }
   }
  },
  {
   "cell_type": "code",
   "execution_count": 10,
   "outputs": [],
   "source": [
    "object1 = main.SwiftGRBWorker()\n",
    "object1.data_path = r'G:\\Mi unidad\\Cursos\\Master_Degree_Project\\GRB_ML\\Data'  # Change download path\n",
    "object1.table_path = r'G:\\Mi unidad\\Cursos\\Master_Degree_Project\\GRB_ML\\Tables'  # Change Table path\n",
    "object1.original_data_path = r'G:\\Mi unidad\\Cursos\\Master_Degree_Project\\GRB_ML\\Data\\Original_Data'  # Change data directory path"
   ],
   "metadata": {
    "collapsed": false,
    "pycharm": {
     "name": "#%%\n"
    }
   }
  },
  {
   "cell_type": "markdown",
   "source": [
    "Now, there are two different approaches to handling data download. Download only one GRB or the complete dataset."
   ],
   "metadata": {
    "collapsed": false,
    "pycharm": {
     "name": "#%% md\n"
    }
   }
  },
  {
   "cell_type": "markdown",
   "source": [
    "## Changing the Swift GRB binning\n",
    "By default, the following sections download the data for 64ms binning in Swift. There are some cases in which we need to use different data resolutions and binning; handling these situations can be solved in this package by managing the _resolution_ and _end_ variables.\n",
    "\n",
    "Through this package, you can change the _resolution_ variable to $2$, $8$, $16$, $64$, and $256$ ms respectively. Additionally, you can set $1$ for 1s binning and change the end variable to \"sn5_10s\" to use data with a signal-to-noise ratio higher than 5 or 10 s binning (these data don't have uniform time spacing)."
   ],
   "metadata": {
    "collapsed": false,
    "pycharm": {
     "name": "#%% md\n"
    }
   }
  },
  {
   "cell_type": "code",
   "execution_count": 3,
   "outputs": [],
   "source": [
    "object1.res = 64  # Resolution for the Light Curve Data in ms, could be 2, 8, 16, 64 (default), 256 and 1 (this last in s)\n",
    "# object1.end = \"sn5_10s\"  # Uncomment this line if you need to use signal-to-noise higher than 5 or 10s binning"
   ],
   "metadata": {
    "collapsed": false,
    "pycharm": {
     "name": "#%%\n"
    }
   }
  },
  {
   "cell_type": "markdown",
   "source": [
    "It is advisable not to change both variables at the same time; this could cause unknown bugs when running package routines and sub-routines."
   ],
   "metadata": {
    "collapsed": false,
    "pycharm": {
     "name": "#%% md\n"
    }
   }
  },
  {
   "cell_type": "markdown",
   "source": [
    "## Single data download\n",
    "If you want, for example, to download data only for GRB060614, you can use the download_data instance. This function needs the name and Trigger ID associated with that GRB; we need to index these data from the `summary_general` table and pass them to the instance. Then, if you are using this notebook for the first time, you need to download some tables:"
   ],
   "metadata": {
    "collapsed": false,
    "pycharm": {
     "name": "#%% md\n"
    }
   }
  },
  {
   "cell_type": "code",
   "execution_count": null,
   "outputs": [],
   "source": [
    "object1.summary_tables_download()"
   ],
   "metadata": {
    "collapsed": false,
    "pycharm": {
     "name": "#%%\n"
    }
   }
  },
  {
   "cell_type": "markdown",
   "source": [
    "The next step is to get the GRB names and IDs from the _summary_general.txt_ table:"
   ],
   "metadata": {
    "collapsed": false,
    "pycharm": {
     "name": "#%% md\n"
    }
   }
  },
  {
   "cell_type": "code",
   "execution_count": 4,
   "outputs": [
    {
     "name": "stdout",
     "output_type": "stream",
     "text": [
      "There are 1391 in summary table\n",
      "Names: ['GRB200829A' 'GRB200819A' 'GRB200809B' ... 'GRB041219B' 'GRB041219A'\n",
      " 'GRB041217']\n",
      "IDs: ['993768' '992099' '987745' ... '100368' '100307' '100116']\n"
     ]
    }
   ],
   "source": [
    "sum_general_path = os.path.join(object1.table_path, \"summary_general.txt\")\n",
    "GRB_names, ids = np.genfromtxt(sum_general_path, delimiter=\"|\", dtype=str, usecols=(0, 1), unpack=True, autostrip=True)\n",
    "print(f\"There are {len(GRB_names)} in summary table\")\n",
    "print(f\"Names: {GRB_names}\")\n",
    "print(f\"IDs: {ids}\")"
   ],
   "metadata": {
    "collapsed": false,
    "pycharm": {
     "name": "#%%\n"
    }
   }
  },
  {
   "cell_type": "markdown",
   "source": [
    "and index the ID associated with GRB060614:"
   ],
   "metadata": {
    "collapsed": false,
    "pycharm": {
     "name": "#%% md\n"
    }
   }
  },
  {
   "cell_type": "code",
   "execution_count": 5,
   "outputs": [
    {
     "name": "stdout",
     "output_type": "stream",
     "text": [
      "GRB060614 has 214805 as ID\n"
     ]
    }
   ],
   "source": [
    "name = 'GRB060614'  # Change this name if you want another GRB\n",
    "index = np.where(GRB_names == name)\n",
    "ID, *other = ids[index]\n",
    "print(f\"{name} has {ID} as ID\")"
   ],
   "metadata": {
    "collapsed": false,
    "pycharm": {
     "name": "#%%\n"
    }
   }
  },
  {
   "cell_type": "markdown",
   "source": [
    "Finally, use the `download_data` instance, passing the name and ID. This instance returns a tuple (name, result), where the result is None if there isn't any error during download, else return a string containing details about the error:"
   ],
   "metadata": {
    "collapsed": false,
    "pycharm": {
     "name": "#%% md\n"
    }
   }
  },
  {
   "cell_type": "code",
   "execution_count": 6,
   "outputs": [
    {
     "name": "stdout",
     "output_type": "stream",
     "text": [
      "GRB060614 has been downloaded\n"
     ]
    }
   ],
   "source": [
    "result_GRB = object1.download_data(name, ID)\n",
    "print(f\"{result_GRB[0]} has been downloaded\") if not result_GRB[1] else print(f\"Error downloading {GRB_names[index]} data: {result_GRB[1]}\")"
   ],
   "metadata": {
    "collapsed": false,
    "pycharm": {
     "name": "#%%\n"
    }
   }
  },
  {
   "cell_type": "markdown",
   "source": [
    "At this point, there is a remark: **For some GRBs, there aren't any data due to Swift measure problems**. On June 27, 2022, there are (at least) 22 GRBs with this problem at 64ms binning:  _170131A, 160623A, 070125, 060123, 160409A, 140611A, 131031A, 130913A, 130518A, 120817B, 110604A, 101204A, 090827, 090720A, 071112C, 071028B, 071010C, 071006, 070227, 140909A, and 041219A._ If you get the _Not Found for url_ error, may be due to this."
   ],
   "metadata": {
    "collapsed": false,
    "pycharm": {
     "name": "#%% md\n"
    }
   }
  },
  {
   "cell_type": "markdown",
   "source": [
    "## Multiple data download\n",
    "\n",
    "This instance uses the same arguments as `data_download`: An array of GRB names and their IDs. Additionally, there is a boolean value named `error` to indicate if you want to save a report datafile.\n",
    "\n",
    "To download the entire GRB dataset, you need only one line of code:"
   ],
   "metadata": {
    "collapsed": false,
    "pycharm": {
     "name": "#%% md\n"
    }
   }
  },
  {
   "cell_type": "code",
   "execution_count": null,
   "outputs": [],
   "source": [
    "object1.so_much_downloads(GRB_names, ids)"
   ],
   "metadata": {
    "collapsed": false,
    "pycharm": {
     "name": "#%%\n"
    }
   }
  },
  {
   "cell_type": "markdown",
   "source": [
    "Now, in the Data folder created, you can see the Original_Data subfolder and the \"Errors_64ms.txt\" summary file. Reading this file, we can check how many errors there are:"
   ],
   "metadata": {
    "collapsed": false,
    "pycharm": {
     "name": "#%% md\n"
    }
   }
  },
  {
   "cell_type": "code",
   "execution_count": 11,
   "outputs": [
    {
     "name": "stdout",
     "output_type": "stream",
     "text": [
      "There are 22 errors.\n"
     ]
    }
   ],
   "source": [
    "GRB_errors = np.genfromtxt(os.path.join(object1.original_data_path, f\"Errors_{object1.end}.txt\"), delimiter='|', dtype=str, unpack=True)[0]\n",
    "print(f\"There are {len(GRB_errors)} errors.\")"
   ],
   "metadata": {
    "collapsed": false,
    "pycharm": {
     "name": "#%%\n"
    }
   }
  },
  {
   "cell_type": "markdown",
   "source": [
    "If you get some _HTTPSConnectionPool_ in the errors summary file, you can run the following code lines as many times as you need:"
   ],
   "metadata": {
    "collapsed": false,
    "pycharm": {
     "name": "#%% md\n"
    }
   }
  },
  {
   "cell_type": "code",
   "execution_count": null,
   "outputs": [],
   "source": [
    "match = np.where(np.isin(GRB_names, GRB_errors))[0]  # Index the IDs of GRB Errors\n",
    "object1.so_much_downloads(GRB_names[match], t_ids=ids[match])  # Try to re-download the GRBs"
   ],
   "metadata": {
    "collapsed": false,
    "pycharm": {
     "name": "#%%\n"
    }
   }
  },
  {
   "cell_type": "markdown",
   "source": [
    "By this, we close this section by remarking that original size data can use 2.67GB of free space on disk approximately (in decompress mode). But, compressing data using `gzip` library, the size has been reduced by a factor of 3-4. Actually, there are:"
   ],
   "metadata": {
    "collapsed": false,
    "pycharm": {
     "name": "#%% md\n"
    }
   }
  },
  {
   "cell_type": "code",
   "execution_count": 12,
   "outputs": [
    {
     "name": "stdout",
     "output_type": "stream",
     "text": [
      "There are 912.683 MB of data\n"
     ]
    }
   ],
   "source": [
    "size = 0  # Set size variable to zero\n",
    "for path, dirs, files in os.walk(object1.original_data_path):  # Loop over the folder containing all data downloaded\n",
    "    for f in files:  # Loop over files into folder\n",
    "        fp = os.path.join(path, f)  # Join file name with folder path\n",
    "        size += os.stat(fp).st_size  # Get file size and sum over previous size\n",
    "print(f\"There are {round(size / (1024 * 1024), 3)} MB of data\")"
   ],
   "metadata": {
    "collapsed": false,
    "pycharm": {
     "name": "#%%\n"
    }
   }
  },
  {
   "cell_type": "markdown",
   "source": [],
   "metadata": {
    "collapsed": false,
    "pycharm": {
     "name": "#%% md\n"
    }
   }
  },
  {
   "cell_type": "code",
   "execution_count": null,
   "outputs": [],
   "source": [
    "output = os.system(\"jupyter nbconvert  README.ipynb --to markdown --output README.md --output-dir='G:\\Mi unidad\\Cursos\\Master_Degree_Project\\GRB_ML\\Documentation'\")\n",
    "print(f\"Readable file created\") if output == 0 else None"
   ],
   "metadata": {
    "collapsed": false,
    "pycharm": {
     "name": "#%%\n"
    }
   }
  }
 ],
 "metadata": {
  "kernelspec": {
   "display_name": "Python 3",
   "language": "python",
   "name": "python3"
  },
  "language_info": {
   "codemirror_mode": {
    "name": "ipython",
    "version": 2
   },
   "file_extension": ".py",
   "mimetype": "text/x-python",
   "name": "python",
   "nbconvert_exporter": "python",
   "pygments_lexer": "ipython2",
   "version": "2.7.6"
  }
 },
 "nbformat": 4,
 "nbformat_minor": 0
}