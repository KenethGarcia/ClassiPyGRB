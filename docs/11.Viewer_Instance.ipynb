{
 "cells": [
  {
   "cell_type": "markdown",
   "source": [
    "_This notebook was developed by [Keneth Garcia](https://stivengarcia7113.wixsite.com/kenethgarcia). Source and license info are on [GitHub](https://github.com/KenethGarcia/ClassiPyGRB)._"
   ],
   "metadata": {
    "collapsed": false
   }
  },
  {
   "cell_type": "markdown",
   "source": [
    "# ClassiPyGRB Viewer - Swift/BAT\n",
    "\n",
    "Results for the Swift/BAT Gamma-Ray Burst (GRBs) on board of The Neil Gehrels Swift Observatory are presented in [this website](https://swift.gsfc.nasa.gov/results/batgrbcat/) (open access).\n",
    "\n",
    "This notebook summarizes how to use the Viewer Instance implemented on **ClassiPyGRB**. Through this document, we are using the _python3_ implementations from the _ClassiPyGRB_ package. It is necessary to have an internet connection and a _Jupyter Notebook_/_Python 3_ compiler software.\n",
    "\n",
    "To use the Viewer instance, you need to call it from **ClassiPyGRB**, as follows:"
   ],
   "metadata": {
    "collapsed": false
   }
  },
  {
   "cell_type": "code",
   "execution_count": 2,
   "outputs": [],
   "source": [
    "from ClassiPyGRB import Viewer"
   ],
   "metadata": {
    "collapsed": false,
    "ExecuteTime": {
     "start_time": "2023-04-27T18:08:34.019859Z",
     "end_time": "2023-04-27T18:08:35.507994Z"
    }
   }
  },
  {
   "cell_type": "markdown",
   "source": [
    "## Setting the Viewer Instance\n",
    "\n",
    "It is indispensable to set the _root\\_path_ variable. This variable is the main path to save data/results from SWIFT. It is mandatory to ensure the functionality of Viewer Class. Moreover, you can use the same arguments from the SWIFT Class in the Viewer Class, mainly:\n",
    "\n",
    "- $data\\_path$ (str, optional): Path where it is saved data from SWIFT. Defaults to Data folder inside root\\_path.\n",
    "- $original\\_data\\_path$ (str, optional): Path where is saved non-noise reduced data from SWIFT. Defaults to Original\\_Data folder inside data\\_path (check the [download data doc](https://github.com/KenethGarcia/ClassiPyGRB/blob/f9fd0df53b815d1823a6c492515a12e4ec806002/docs/2.BAT_Data_Download.ipynb) for further details).\n",
    "- $noise\\_data\\_path$ (str, optional): Path to save noise-reduced data from SWIFT. Defaults to Noise\\_Filtered\\_Data folder inside data\\_path (check the [noise reduction doc](https://github.com/KenethGarcia/ClassiPyGRB/blob/f9fd0df53b815d1823a6c492515a12e4ec806002/docs/4.BAT_Noise_Reduction.ipynb) for further details).\n",
    "- $results\\_path$ (str, optional): Path where the pre-processed Fourier Amplitude Spectrum are saved. Defaults to Results folder inside root\\_path (check the [preprocess doc](https://github.com/KenethGarcia/ClassiPyGRB/blob/f9fd0df53b815d1823a6c492515a12e4ec806002/docs/3.BAT_Preprocess.ipynb) for further details).\n",
    "\n",
    "Currently, the Viewer instance is only compatible with 64 ms and 10 s data, and it follows the same saving format from the [preprocess](https://github.com/KenethGarcia/ClassiPyGRB/blob/f9fd0df53b815d1823a6c492515a12e4ec806002/docs/3.BAT_Preprocess.ipynb), [noise reduction](https://github.com/KenethGarcia/ClassiPyGRB/blob/f9fd0df53b815d1823a6c492515a12e4ec806002/docs/4.BAT_Noise_Reduction.ipynb), and [interpolation](https://github.com/KenethGarcia/ClassiPyGRB/blob/f9fd0df53b815d1823a6c492515a12e4ec806002/docs/5.BAT_Interpolate.ipynb) notebooks. However, we are continously improving and updating this instance, and it will be compatible with all resolutions in future releases. We encourage you to check the [ClassiPyGRB documentation](https://github.com/KenethGarcia/ClassiPyGRB/tree/master/docs) for further details.\n",
    "\n",
    "Here, we will assume that you have the results file created from these documents.\n",
    "\n",
    "The most simple and easy implementation of the `Viewer` window only uses $root\\_path$ as a main folder assuming that data and results are both placed at the default directories inside $root\\_path$:"
   ],
   "metadata": {
    "collapsed": false
   }
  },
  {
   "cell_type": "code",
   "execution_count": 3,
   "outputs": [],
   "source": [
    "app = Viewer(root_path='type-your-path-here')"
   ],
   "metadata": {
    "collapsed": false,
    "ExecuteTime": {
     "start_time": "2023-04-27T18:08:35.835468Z",
     "end_time": "2023-04-27T18:08:36.184994Z"
    }
   }
  },
  {
   "cell_type": "markdown",
   "source": [
    "To pop-up the window, you need to call the `mainloop()` method from Tkinter:"
   ],
   "metadata": {
    "collapsed": false
   }
  },
  {
   "cell_type": "code",
   "execution_count": null,
   "outputs": [],
   "source": [
    "app.mainloop()"
   ],
   "metadata": {
    "collapsed": false,
    "pycharm": {
     "is_executing": true
    }
   }
  },
  {
   "cell_type": "markdown",
   "source": [
    "## Displaying the GUI Window\n",
    "\n",
    "As you run the `mainloop()` method, the GUI window will pop up. The window is divided into two main sections: the left panel and the right panel. The left panel is used to display the t-SNE embeddings, and the right panel is used to display the GRB light curves and Fourier Amplitude Spectrum. The window is resizable, and you can adjust the size of each panel:\n",
    "\n",
    "![GUI Window](Animations/images/Window.png)"
   ],
   "metadata": {
    "collapsed": false
   }
  },
  {
   "cell_type": "markdown",
   "source": [
    "## Window Structure\n",
    "\n",
    "The window actually is composed by 12 parts:\n",
    "\n",
    "![Window Structure](Animations/images/Window_Parts.png)\n",
    "\n",
    "1. the t-SNE plotting space, where the t-SNE embeddings are displayed.\n",
    "2. The GRB plotting space, where its light curve or Fourier Amplitude Spectrum obtained is displayed.\n",
    "3. A check button to select if you want to display the light curve or the Fourier Amplitude Spectrum.\n",
    "4. A box to define the GRB you want to search into the t-SNE embedding, and the button to search it.\n",
    "5. A Menu to select the duration interval of the GRBs to display in the light curve.\n",
    "6. A button to update the t-SNE embeddings.\n",
    "7. A button to update the light curve plot.\n",
    "8. A Menu to change the dataset used both in the t-SNE embeddings and the light curve plot.\n",
    "9. A box to define the early exaggertion value used in the t-SNE embeddings.\n",
    "10. A box to define the learning rate value used in the t-SNE embeddings.\n",
    "11. A box to define the perplexity value used in the t-SNE embeddings.\n",
    "12. Five Check buttons to select the bands consider in the Fourier Amplitude Spectrum results.\n",
    "\n",
    "As you can see, the use of this interface has been designed to be friendly and intuitieve with the user. In next sections, we will make some examples to show how to use the interface."
   ],
   "metadata": {
    "collapsed": false
   }
  },
  {
   "cell_type": "markdown",
   "source": [
    "## Displaying the t-SNE Embeddings\n",
    "\n",
    "If you set the perplexity, early exaggeration, and learning rate values, you can display the t-SNE embeddings by clicking the `Update t-SNE` button. The t-SNE embeddings will be displayed in the left panel. Furthermore, if you click on a point in the embedding, the GRB light curve or Fourier Amplitude Spectrum will be displayed in the right panel. The Fourier Amplitude Spectrum is displayed by default, but you can change it to the GRB light curve by clicking the `Plot DFT` check button:\n",
    "\n",
    "![t-SNE Embedding](Animations/images/Plot_DFT.png)\n",
    "\n",
    "![t-SNE Embeddings](Animations/images/Use.png)"
   ],
   "metadata": {
    "collapsed": false
   }
  },
  {
   "cell_type": "markdown",
   "source": [
    "## Searching a GRB in the t-SNE Embeddings\n",
    "\n",
    "You can find the position of a GRB and highlight it in the t-SNE embeddings by typing its name in the box and clicking the `Search` button. If the GRB is found, the point will be highlighted in the t-SNE embeddings. If the GRB is not found, a message will be displayed in the bottom of the window. You can click over the highlighted point to display the GRB light curve or Fourier Amplitude Spectrum in the right panel. Furthermore, you can change the duration interval of the GRB light curve by selecting a value in the `Duration` menu:\n",
    "\n",
    "![Search GRB](Animations/images/Search_ChangeT.png)"
   ],
   "metadata": {
    "collapsed": false
   }
  },
  {
   "cell_type": "markdown",
   "source": [
    "## Zooming the t-SNE Embeddings\n",
    "\n",
    "You can zoom in and zoom out the t-SNE embeddings by scrolling up or down with the mouse wheel. If you want to reset the zoom, you can click the `Update t-SNE` button, taking care that the general parameters are the same. Also, you can change the dataset where the GRB data is taken to plot by selecting a value in the `Dataset` menu and clicking in the `Update t-SNE` button (this button does not change the t-SNE embeddings, only the GRB data to plot):\n",
    "\n",
    "**Warning:** If you change the dataset, the t-SNE embeddings will be updated as soon as you click into the `Update t-SNE` button, and the zoom will be reset. Make sure that you reset first the parameters if you do not want to lose the embedding.\n",
    "\n",
    "![Zoom](Animations/images/Zoom_ChangeLightCurve.png)"
   ],
   "metadata": {
    "collapsed": false
   }
  },
  {
   "cell_type": "markdown",
   "source": [],
   "metadata": {
    "collapsed": false
   }
  }
 ],
 "metadata": {
  "kernelspec": {
   "display_name": "Python 3",
   "language": "python",
   "name": "python3"
  },
  "language_info": {
   "codemirror_mode": {
    "name": "ipython",
    "version": 2
   },
   "file_extension": ".py",
   "mimetype": "text/x-python",
   "name": "python",
   "nbconvert_exporter": "python",
   "pygments_lexer": "ipython2",
   "version": "2.7.6"
  }
 },
 "nbformat": 4,
 "nbformat_minor": 0
}
