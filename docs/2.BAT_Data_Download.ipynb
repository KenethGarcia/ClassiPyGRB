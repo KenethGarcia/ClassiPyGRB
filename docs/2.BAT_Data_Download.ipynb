{
 "cells": [
  {
   "cell_type": "markdown",
   "source": [
    "_This notebook was developed by [Keneth Garcia](https://stivengarcia7113.wixsite.com/kenethgarcia). Source and license info are on [GitHub](https://github.com/KenethGarcia/ClassiPyGRB)._"
   ],
   "metadata": {
    "collapsed": false
   }
  },
  {
   "cell_type": "markdown",
   "source": [
    "# Swift Data Download\n",
    "Results for the Swift/BAT Gamma-Ray Burst (GRBs) on board of The Neil Gehrels Swift Observatory are presented in [this website](https://swift.gsfc.nasa.gov/results/batgrbcat/) (open access).\n",
    "\n",
    "This notebook summarizes the process to download these data in different resolutions. Through this document, we are using the _python3_ implementations from the _ClassiPyGRB_ package. It is necessary to have an internet connection and a _Jupyter Notebook_/_Python 3_ compiler software.\n",
    "\n",
    "First, we need to import the _SWIFT_ instance of _ClassiPyGRB_ to our notebook (and some other packages needed in this notebook):"
   ],
   "metadata": {
    "collapsed": false
   }
  },
  {
   "cell_type": "code",
   "execution_count": 1,
   "outputs": [],
   "source": [
    "from ClassiPyGRB import SWIFT\n",
    "# Packages needed in this notebook\n",
    "import os\n",
    "import pandas as pd\n",
    "import numpy as np"
   ],
   "metadata": {
    "collapsed": false,
    "ExecuteTime": {
     "start_time": "2023-04-23T16:39:56.421175Z",
     "end_time": "2023-04-23T16:39:58.142227Z"
    }
   }
  },
  {
   "cell_type": "markdown",
   "source": [
    "## Changing the Swift GRB binning\n",
    "By default, the following sections download the data for 64ms binning in Swift. There are some cases in which we need to use different data resolutions and binning; handling these situations can be solved in this package by managing the _resolution_ $res$ argument.\n",
    "\n",
    "Through **ClassiPyGRB**, you can change the _resolution_ variable to $2$, $8$, $16$, $64$, and $256$ ms respectively. Additionally, you can set $res=1000$ for 1s binning and $res=10000$ to use data with a signal-to-noise ratio higher than 5 or 10 s binning (10s data don't have uniform time spacing).\n",
    "\n",
    "In **ClassiPyGRB** you have a high-level of saving data customization. You can set the following paths:\n",
    "- $root\\_path$ (str): Main path to save data/results from SWIFT. Unique mandatory path to ensure the functionality of SWIFT Class.\n",
    "- $original\\_data\\_path$ (str, optional): Path to save non-manipulated data from SWIFT. Defaults to Original\\_Data folder inside data\\_path.\n",
    "- $noise\\_data\\_path$ (str, optional): Path to save noise-reduced data from SWIFT. Defaults to Noise\\_Filtered\\_Data folder inside data\\_path.\n",
    "- $results\\_path$ (str, optional): Path to save non-manipulated data from SWIFT. Defaults to Results folder inside root\\_path.\n",
    "- $noise\\_images\\_path$ (str, optional): Path to save noise-reduced plots from SWIFT. Defaults to Noise\\_Filter\\_Images folder inside results\\_path.\n",
    "- $table\\_path$ (str, optional): Path to save tables from SWIFT. Defaults to Tables folder inside root\\_path.\n",
    "\n",
    "However, the most simple and easy implementation of **ClassiPyGRB** only uses $root\\_path$ as a main folder and saves both data and results in this path:\n"
   ],
   "metadata": {
    "collapsed": false
   }
  },
  {
   "cell_type": "code",
   "execution_count": 2,
   "outputs": [],
   "source": [
    "swift = SWIFT(root_path=r'type-your-path-here', res=16)"
   ],
   "metadata": {
    "collapsed": false,
    "ExecuteTime": {
     "start_time": "2023-04-23T16:39:58.144036Z",
     "end_time": "2023-04-23T16:39:58.149019Z"
    }
   }
  },
  {
   "cell_type": "markdown",
   "source": [
    "Now, there are two different approaches to download data from Swift/BAT. Download only one GRB or the complete dataset."
   ],
   "metadata": {
    "collapsed": false
   }
  },
  {
   "cell_type": "markdown",
   "source": [
    "## Single data download\n",
    "If you'd like', for example, to download data only for GRB060614, you can use the `single_download` instance. This function only receives the GRB Name as argument. This instance returns a pandas Dataframe containing data from the requested GRB or, if there is any error when requesting, a string containing details about the error:"
   ],
   "metadata": {
    "collapsed": false
   }
  },
  {
   "cell_type": "code",
   "execution_count": 3,
   "outputs": [
    {
     "name": "stdout",
     "output_type": "stream",
     "text": [
      "GRB060614 has been downloaded\n"
     ]
    }
   ],
   "source": [
    "name = 'GRB060614'  # Change this name if you want another GRB\n",
    "result_GRB = swift.single_download(name)\n",
    "print(f\"{name} has been downloaded\") if result_GRB is None else print(f\"Error downloading {name} data: {result_GRB}\")"
   ],
   "metadata": {
    "collapsed": false,
    "ExecuteTime": {
     "start_time": "2023-04-23T16:39:58.149375Z",
     "end_time": "2023-04-23T16:39:59.350976Z"
    }
   }
  },
  {
   "cell_type": "markdown",
   "source": [
    "At this point, there is a remark: **For some GRBs, there are not any data due to Swift technical problems**. On June 27, 2022, there are (at least) 22 GRBs with this issue for the 64ms binning:  _170131A, 160623A, 070125, 060123, 160409A, 140611A, 131031A, 130913A, 130518A, 120817B, 110604A, 101204A, 090827, 090720A, 071112C, 071028B, 071010C, 071006, 070227, 140909A, and 041219A._ If you get the _Not Found for url_ error, may be due to this."
   ],
   "metadata": {
    "collapsed": false
   }
  },
  {
   "cell_type": "markdown",
   "source": [
    "## Multiple data download\n",
    "\n",
    "The `multiple_downloads` instance use the same arguments as `single_download`: An array of GRB names. Additionally, there is a boolean value named `error` to indicate if you want to save a report datafile. Let me import the GRB Names from the summary table of Swift:\n"
   ],
   "metadata": {
    "collapsed": false
   }
  },
  {
   "cell_type": "code",
   "execution_count": 4,
   "outputs": [
    {
     "name": "stdout",
     "output_type": "stream",
     "text": [
      "0       GRB220715B\n",
      "1       GRB220714B\n",
      "2       GRB220711B\n",
      "3       GRB220708A\n",
      "4       GRB220706A\n",
      "           ...    \n",
      "1522     GRB041220\n",
      "1523    GRB041219C\n",
      "1524    GRB041219B\n",
      "1525    GRB041219A\n",
      "1526     GRB041217\n",
      "Name: GRBname, Length: 1527, dtype: object\n"
     ]
    }
   ],
   "source": [
    "df = swift.summary_table()  # Obtain Summary Table\n",
    "GRB_names = df['GRBname']  # Extract column with GRB Names\n",
    "print(GRB_names)"
   ],
   "metadata": {
    "collapsed": false,
    "ExecuteTime": {
     "start_time": "2023-04-23T16:39:59.351636Z",
     "end_time": "2023-04-23T16:39:59.457623Z"
    }
   }
  },
  {
   "cell_type": "markdown",
   "source": [
    "To download the entire GRB dataset, you need only one line of code:"
   ],
   "metadata": {
    "collapsed": false
   }
  },
  {
   "cell_type": "code",
   "execution_count": 5,
   "outputs": [
    {
     "name": "stderr",
     "output_type": "stream",
     "text": [
      "Downloading: 100%|██████████| 1527/1527 [03:29<00:00,  7.30GRB/s]\n"
     ]
    }
   ],
   "source": [
    "swift.multiple_downloads(GRB_names)"
   ],
   "metadata": {
    "collapsed": false,
    "ExecuteTime": {
     "start_time": "2023-04-23T16:39:59.414763Z",
     "end_time": "2023-04-23T16:43:28.747348Z"
    }
   }
  },
  {
   "cell_type": "markdown",
   "source": [
    "Now, in the Data folder created, you can see the `Original_Data` subfolder and the \"Errors_64ms.txt\" summary file. Reading this file, we can check how many errors there are:"
   ],
   "metadata": {
    "collapsed": false
   }
  },
  {
   "cell_type": "code",
   "execution_count": 6,
   "outputs": [
    {
     "name": "stdout",
     "output_type": "stream",
     "text": [
      "      GRB Name                                              Error\n",
      "0   GRB170131A  404 Client Error: Not Found for url: https://s...\n",
      "1   GRB160623A  404 Client Error: Not Found for url: https://s...\n",
      "2   GRB160409A  404 Client Error: Not Found for url: https://s...\n",
      "3   GRB150407A  404 Client Error: Not Found for url: https://s...\n",
      "4   GRB140909A  404 Client Error: Not Found for url: https://s...\n",
      "5   GRB140611A  404 Client Error: Not Found for url: https://s...\n",
      "6   GRB131031A  404 Client Error: Not Found for url: https://s...\n",
      "7   GRB130913A  404 Client Error: Not Found for url: https://s...\n",
      "8   GRB130518A  404 Client Error: Not Found for url: https://s...\n",
      "9   GRB120817B  404 Client Error: Not Found for url: https://s...\n",
      "10  GRB110604A  404 Client Error: Not Found for url: https://s...\n",
      "11  GRB101204A  404 Client Error: Not Found for url: https://s...\n",
      "12   GRB090827  404 Client Error: Not Found for url: https://s...\n",
      "13  GRB090720A  404 Client Error: Not Found for url: https://s...\n",
      "14  GRB071112C  404 Client Error: Not Found for url: https://s...\n",
      "15  GRB071028B  404 Client Error: Not Found for url: https://s...\n",
      "16  GRB071010C  404 Client Error: Not Found for url: https://s...\n",
      "17   GRB071006  404 Client Error: Not Found for url: https://s...\n",
      "18   GRB070227  404 Client Error: Not Found for url: https://s...\n",
      "19   GRB070125  404 Client Error: Not Found for url: https://s...\n",
      "20   GRB060123  404 Client Error: Not Found for url: https://s...\n",
      "21  GRB041219A  404 Client Error: Not Found for url: https://s...\n"
     ]
    }
   ],
   "source": [
    "df_error = pd.read_table(os.path.join(swift.original_data_path, f\"Errors_{swift.end}.txt\"), sep='\\t', comment='#', names=['GRB Name', 'Error'], header=None)\n",
    "GRB_errors = np.array(df_error['GRB Name'])\n",
    "print(df_error)"
   ],
   "metadata": {
    "collapsed": false,
    "ExecuteTime": {
     "start_time": "2023-04-23T16:43:28.747838Z",
     "end_time": "2023-04-23T16:43:28.783124Z"
    }
   }
  },
  {
   "cell_type": "markdown",
   "source": [
    "If you get some _HTTPSConnectionPool_ or _HDF5ExtError_ in the errors summary file, you can run the following code lines as many times as you need:"
   ],
   "metadata": {
    "collapsed": false
   }
  },
  {
   "cell_type": "code",
   "execution_count": 7,
   "outputs": [
    {
     "name": "stderr",
     "output_type": "stream",
     "text": [
      "Downloading: 100%|██████████| 22/22 [00:01<00:00, 15.78GRB/s]\n"
     ]
    }
   ],
   "source": [
    "match = np.where(np.isin(GRB_names, GRB_errors))[0]  # Index the IDs of GRB Errors\n",
    "swift.multiple_downloads(np.array(GRB_names[match]))  # Try to re-download the GRBs"
   ],
   "metadata": {
    "collapsed": false,
    "ExecuteTime": {
     "start_time": "2023-04-23T16:43:28.789375Z",
     "end_time": "2023-04-23T16:43:30.294201Z"
    }
   }
  },
  {
   "cell_type": "markdown",
   "source": [
    "By this, we close this section by remarking that original size data can use 2.4 GB of free space on disk approximately. Actually, there are:"
   ],
   "metadata": {
    "collapsed": false
   }
  },
  {
   "cell_type": "code",
   "execution_count": 8,
   "outputs": [
    {
     "name": "stdout",
     "output_type": "stream",
     "text": [
      "There are 2492.048 MB of data\n"
     ]
    }
   ],
   "source": [
    "size = 0  # Set size variable to zero\n",
    "for path, dirs, files in os.walk(swift.original_data_path):  # Loop over the folder containing all data downloaded\n",
    "    for f in files:  # Loop over files into folder\n",
    "        fp = os.path.join(path, f)  # Join file name with folder path\n",
    "        size += os.stat(fp).st_size  # Get file size and sum over previous size\n",
    "print(f\"There are {round(size / (1024 * 1024), 3)} MB of data\")"
   ],
   "metadata": {
    "collapsed": false,
    "ExecuteTime": {
     "start_time": "2023-04-23T16:43:30.291414Z",
     "end_time": "2023-04-23T16:43:30.356055Z"
    }
   }
  }
 ],
 "metadata": {
  "kernelspec": {
   "display_name": "Python 3",
   "language": "python",
   "name": "python3"
  },
  "language_info": {
   "codemirror_mode": {
    "name": "ipython",
    "version": 2
   },
   "file_extension": ".py",
   "mimetype": "text/x-python",
   "name": "python",
   "nbconvert_exporter": "python",
   "pygments_lexer": "ipython2",
   "version": "2.7.6"
  }
 },
 "nbformat": 4,
 "nbformat_minor": 0
}
