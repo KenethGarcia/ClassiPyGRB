{
 "cells": [
  {
   "cell_type": "markdown",
   "source": [
    "_This notebook was put together by [Keneth Garcia](https://stivengarcia7113.wixsite.com/kenethgarcia). Source and license info are on [GitHub](https://github.com/KenethGarcia/GRB_ML)._"
   ],
   "metadata": {
    "collapsed": false
   }
  },
  {
   "cell_type": "markdown",
   "source": [
    "# Swift Data Noise Reduction\n",
    "The Neil Gehrels Swift Observatory presents analysis results for the Swift/BAT Gamma-Ray Burst (GRBs) on [this website](https://swift.gsfc.nasa.gov/results/batgrbcat/) (open access).\n",
    "\n",
    "Swift/BAT data are **quite noisy**, and taking more cleaned light curves for t-SNE can refine its results. This notebook summarizes how to reduce noise from Swift Data using non-parametric noise reduction technique called [FABADA](https://github.com/PabloMSanAla/fabada). Through this document, we are using the _python3_ implementations from the _ClassiPyGRB_ package. It is necessary to have an internet connection and a _Jupyter Notebook_/_Python 3_ compiler software.\n",
    "\n",
    "First, we have to import the _SWIFT_ instance of _ClassiPyGRB_ to our notebook (and some other packages needed in this notebook):"
   ],
   "metadata": {
    "collapsed": false
   }
  },
  {
   "cell_type": "code",
   "execution_count": 2,
   "outputs": [],
   "source": [
    "from ClassiPyGRB import SWIFT\n",
    "# Importing other packages needed\n",
    "import os\n",
    "import numpy as np\n",
    "import pandas as pd"
   ],
   "metadata": {
    "collapsed": false,
    "ExecuteTime": {
     "end_time": "2023-05-01T00:00:43.327883862Z",
     "start_time": "2023-05-01T00:00:41.457201707Z"
    }
   }
  },
  {
   "cell_type": "markdown",
   "source": [
    "## Changing the Swift GRB binning\n",
    "There are some cases in which we need to use different data resolutions and binning; handling these situations can be solved in this package by managing the _resolution_ $res$ argument.\n",
    "\n",
    "Through **ClassiPyGRB**, you can change the _resolution_ variable to $2$, $8$, $16$, $64$, and $256$ ms respectively. Additionally, you can set $res=1000$ for 1s binning and $res=10000$ to use data with a signal-to-noise ratio higher than 5 or 10 s binning (10s data don't have uniform time spacing).\n",
    "\n",
    "In **ClassiPyGRB** you have a high-level of saving data customization. You can set the following paths:\n",
    "- $root\\_path$ (str): Main path to save data/results from SWIFT. Unique mandatory path to ensure the functionality of SWIFT Class.\n",
    "- $data\\_path$ (str, optional): Path to save data from SWIFT. Defaults to Data folder inside root\\_path.\n",
    "- $original\\_data\\_path$ (str, optional): Path to save non-manipulated data from SWIFT. Defaults to Original\\_Data folder inside data\\_path.\n",
    "- $noise\\_data\\_path$ (str, optional): Path to save noise-reduced data from SWIFT. Defaults to Noise\\_Filtered\\_Data folder inside data\\_path.\n",
    "- $results\\_path$ (str, optional): Path to save non-manipulated data from SWIFT. Defaults to Results folder inside root\\_path.\n",
    "\n",
    "Moreover, in **ClassiPyGRB** you can customize the bands used from Swift/BAT data using the parameter `n_bands`. This parameter consists of an array of integers ranging from 1 to 5, where each integer represents a unique band from Swift. In order, 1 represents the 15-25 keV band, 2 represents the 25-50 keV band, 3 represents the 50-100 keV band, 4 represents the 100-350 keV band, and 5 represents the 15-350 keV band. Therefore, for example, by using $n\\_bands=[2, 4]$ **ClassiPyGRB** understands that you would like to work with 25-50 keV and 100-350 keV bands. Setting `n_bands` appropriately can help you to improve time of preprocess, results of t-SNE and custom plotting from Swift/BAT.\n",
    "\n",
    "However, the most simple and easy implementation of **ClassiPyGRB** only uses $root\\_path$ as a main folder and saves both data and results in this path:"
   ],
   "metadata": {
    "collapsed": false
   }
  },
  {
   "cell_type": "code",
   "execution_count": 4,
   "outputs": [
    {
     "name": "stdout",
     "output_type": "stream",
     "text": [
      "Swift/BAT bands selected: ['Time(s)', '15-25keV', '25-50keV', '50-100keV', '100-350keV', '15-350keV']\n"
     ]
    }
   ],
   "source": [
    "swift = SWIFT(root_path=r'type-your-path-here', res=64, n_bands=[1, 2, 3, 4, 5])\n",
    "print(f\"Swift/BAT bands selected: {swift.bands_selected}\")"
   ],
   "metadata": {
    "collapsed": false,
    "ExecuteTime": {
     "end_time": "2023-05-01T00:01:07.537380955Z",
     "start_time": "2023-05-01T00:01:07.490820298Z"
    }
   }
  },
  {
   "cell_type": "markdown",
   "source": [
    "Last, extract the GRB Names of Swift, and remove the GRBs with download errors, only if you already have downloaded data form Swift/BAT:"
   ],
   "metadata": {
    "collapsed": false
   }
  },
  {
   "cell_type": "code",
   "execution_count": 5,
   "outputs": [
    {
     "name": "stdout",
     "output_type": "stream",
     "text": [
      "There are 1503 GRBs in the current working Swift/BAT dataset.\n"
     ]
    }
   ],
   "source": [
    "df = swift.summary_table()\n",
    "GRB_names = df['GRBname'] # GRB Names total array\n",
    "try:\n",
    "    df = pd.read_table(os.path.join(swift.original_data_path, f\"Errors_{swift.end}.txt\"), sep='\\t', comment='#', names=['GRB Name', 'Error'], header=None)\n",
    "    GRB_errors = df['GRB Name']\n",
    "except FileNotFoundError:\n",
    "    pass\n",
    "else:\n",
    "    GRB_names = np.unique(GRB_names[~GRB_names.isin(GRB_errors)])\n",
    "print(f'There are {len(GRB_names)} GRBs in the current working Swift/BAT dataset.')"
   ],
   "metadata": {
    "collapsed": false,
    "ExecuteTime": {
     "end_time": "2023-05-01T00:01:09.127965768Z",
     "start_time": "2023-05-01T00:01:09.034644756Z"
    }
   }
  },
  {
   "cell_type": "markdown",
   "source": [
    "**Note:** If you haven't downloaded the data yet, check the _BAT_Data_Download_ notebook. It is strongly recommended to download data before to run this notebook, although the instances used here can work without any previous downloaded data, the time of execution can be highly affected if you do not have it."
   ],
   "metadata": {
    "collapsed": false
   }
  },
  {
   "cell_type": "markdown",
   "source": [
    "## Fully Adaptive Bayesian Algorithm for Data Analysis - FABADA\n",
    "\n",
    "Taked from their [GitHub](https://github.com/PabloMSanAla/fabada):\n",
    "_FABADA is a novel non-parametric noise reduction technique which arise from the point of view of Bayesian inference that iteratively evaluates possible smoothed models of the data, obtaining an estimation of the underlying signal that is statistically compatible with the noisy measurements. (...) **The only requisite of the input data is an estimation of its associated variance**._\n",
    "\n",
    "As you can read, we need to estimate variance prior to implementing FABADA. To do this, we use a public method based on _[John Immerkær(1996)](https://www.semanticscholar.org/paper/Fast-Noise-Variance-Estimation-Immerk%C3%A6r/1da5c5819ae1d33a2a4acc57e16cb655374054e7)_; it consists of a simple function that takes one light curve band array as a 1 pixel gray-scaled image. To prevent disturbing estimation by the GRB itself, we use only the data outside $T_{100}$.\n",
    "\n",
    "Let's reduce the noise of a specific GRB:"
   ],
   "metadata": {
    "collapsed": false
   }
  },
  {
   "cell_type": "code",
   "execution_count": 4,
   "outputs": [],
   "source": [
    "name = 'GRB060614'\n",
    "ax = swift.plot_any_grb(name=name)"
   ],
   "metadata": {
    "collapsed": false,
    "ExecuteTime": {
     "end_time": "2023-04-30T06:39:10.424263787Z",
     "start_time": "2023-04-30T06:39:07.707257295Z"
    }
   }
  },
  {
   "cell_type": "markdown",
   "source": [
    "Through the `noise_reduction_fabada` we reduce the noise of any GRB in the dataset only by introducing its name:"
   ],
   "metadata": {
    "collapsed": false
   }
  },
  {
   "cell_type": "code",
   "execution_count": 5,
   "outputs": [
    {
     "name": "stdout",
     "output_type": "stream",
     "text": [
      "       Time(s)      15-25keV  15-25Err      25-50keV  25-50Err     50-100keV   \n",
      "0     -239.728 -7.557219e-03  0.052361  4.795231e-03  0.050291  9.318385e-03  \\\n",
      "1     -239.664 -7.769840e-03  0.057223  5.478403e-03  0.048346  9.386921e-03   \n",
      "2     -239.600 -7.879099e-03  0.047978  4.923547e-03  0.048173  9.803430e-03   \n",
      "3     -239.536 -6.809064e-03  0.042630  4.779939e-03  0.041823  9.945709e-03   \n",
      "4     -239.472 -5.939465e-03  0.039029  4.457471e-03  0.042034  9.689766e-03   \n",
      "...        ...           ...       ...           ...       ...           ...   \n",
      "11277  482.000 -2.437139e-23  0.000000 -8.913424e-23  0.000000 -4.749593e-23   \n",
      "11278  482.064 -2.140248e-23  0.000000 -7.847584e-23  0.000000 -4.170556e-23   \n",
      "11279  482.128 -1.933059e-23  0.000000 -7.103025e-23  0.000000 -3.766461e-23   \n",
      "11280  482.192 -1.807234e-23  0.000000 -6.650537e-23  0.000000 -3.521053e-23   \n",
      "11281  482.256 -1.757703e-23  0.000000 -6.472345e-23  0.000000 -3.424448e-23   \n",
      "\n",
      "       50-100Err    100-350keV  100-350Err     15-350keV  15-350Err  \n",
      "0       0.044509  3.068449e-03    0.037256  1.014439e-02   0.092952  \n",
      "1       0.056547  3.423114e-03    0.039841  1.093458e-02   0.101964  \n",
      "2       0.046359  3.746053e-03    0.029100  1.149953e-02   0.087285  \n",
      "3       0.046210  4.096852e-03    0.033649  1.223629e-02   0.082669  \n",
      "4       0.051133  4.260939e-03    0.028455  1.267184e-02   0.081942  \n",
      "...          ...           ...         ...           ...        ...  \n",
      "11277   0.000000 -1.274061e-22    0.000000 -3.047696e-22   0.000000  \n",
      "11278   0.000000 -1.120015e-22    0.000000 -2.679723e-22   0.000000  \n",
      "11279   0.000000 -1.012468e-22    0.000000 -2.422800e-22   0.000000  \n",
      "11280   0.000000 -9.471356e-23    0.000000 -2.266718e-22   0.000000  \n",
      "11281   0.000000 -9.214133e-23    0.000000 -2.205265e-22   0.000000  \n",
      "\n",
      "[11282 rows x 11 columns]\n"
     ]
    }
   ],
   "source": [
    "df = swift.noise_reduction_fabada(name=name)\n",
    "print(df)"
   ],
   "metadata": {
    "collapsed": false,
    "ExecuteTime": {
     "end_time": "2023-04-30T06:39:14.703373590Z",
     "start_time": "2023-04-30T06:39:10.427366063Z"
    }
   }
  },
  {
   "cell_type": "markdown",
   "source": [
    "Additionally, you can control the results of noise reduction by specifying the variance to use in the FABADA algorithm setting the `sigma` argument. It can receive a constant variance value or a list of variance values for each band. If you don't specify any value, the variance will be estimated using the RMS noise of an image.\n",
    "\n",
    "Moreover, you can save the results of noise reduction in a table by setting the `save` argument to `True`. By default, the table will be saved in the `noise_data_path` folder with the name `{GRB Name}_{end}.h5`. You can change the path of saving by setting the `noise_data_path` argument in `SWIFT` instance.\n",
    "\n",
    "Let's plot the results of noise reduction using the `plot_any_grb` instance:"
   ],
   "metadata": {
    "collapsed": false
   }
  },
  {
   "cell_type": "code",
   "execution_count": 6,
   "outputs": [],
   "source": [
    "swift.noise_reduction_fabada(name=name, save_data=True)  # Save the results of noise reduction in disk\n",
    "ax2 = swift.plot_any_grb(name=name, kind='Interpolated', legend=False, figsize=[12, 10], check_disk=True)  # Plot original data\n",
    "# Change temporary the path where plot_any_grb method looks for data\n",
    "old_path = swift.original_data_path\n",
    "swift.original_data_path = swift.noise_data_path\n",
    "ax2 = swift.plot_any_grb(name=name, legend=True, ax=ax2, check_disk=True)  # Force to read data from disk\n",
    "swift.original_data_path = old_path"
   ],
   "metadata": {
    "collapsed": false,
    "ExecuteTime": {
     "end_time": "2023-04-30T06:39:19.074469762Z",
     "start_time": "2023-04-30T06:39:14.703956146Z"
    }
   }
  },
  {
   "cell_type": "markdown",
   "source": [
    "and inside $T_{100}$:"
   ],
   "metadata": {
    "collapsed": false
   }
  },
  {
   "cell_type": "code",
   "execution_count": 7,
   "outputs": [],
   "source": [
    "ax3 = swift.plot_any_grb(name=name, kind='Interpolated', legend=False, t=100, figsize=[12, 10], check_disk=True)  # Plot original data\n",
    "# Change temporary the path where plot_any_grb method looks for data\n",
    "old_path = swift.original_data_path\n",
    "swift.original_data_path = swift.noise_data_path\n",
    "ax3 = swift.plot_any_grb(name=name, legend=True, ax=ax3, t=100, check_disk=True)  # Force to read data from disk\n",
    "swift.original_data_path = old_path"
   ],
   "metadata": {
    "collapsed": false,
    "ExecuteTime": {
     "end_time": "2023-04-30T06:39:19.180738099Z",
     "start_time": "2023-04-30T06:39:19.087451695Z"
    }
   }
  },
  {
   "cell_type": "markdown",
   "source": [
    "As you can see, the gray background represents the original data, and colored lines the noise filtered results (the plot is saved automatically in the results' directory). In general, the noise reduction is satisfactory and reveals a problem: GRBs with low signal-to-noise ratios seem like only random noise. Check (for example) the GRB060203 results:"
   ],
   "metadata": {
    "collapsed": false
   }
  },
  {
   "cell_type": "code",
   "execution_count": 8,
   "outputs": [],
   "source": [
    "df2 = swift.noise_reduction_fabada(name='GRB060203', save_data=True)\n",
    "ax4 = swift.plot_any_grb(name='GRB060203', kind='Interpolated', legend=False, t=100)\n",
    "old_path = swift.original_data_path\n",
    "swift.original_data_path = swift.noise_data_path\n",
    "ax4 = swift.plot_any_grb(name='GRB060203', legend=True, ax=ax4, t=100, check_disk=True)\n",
    "swift.original_data_path = old_path"
   ],
   "metadata": {
    "collapsed": false,
    "ExecuteTime": {
     "end_time": "2023-04-30T06:39:22.779225042Z",
     "start_time": "2023-04-30T06:39:19.181678749Z"
    }
   }
  },
  {
   "cell_type": "markdown",
   "source": [
    "Beyond this fact, we can parallelize the noise reduction using the `parallel_noise_reduction_fabada` instance (enable the `save_data` parameter to keep results in the data directory):\n",
    "\n",
    "**Note:** This instance can take a while to finish, depending on the number of GRBs in the dataset."
   ],
   "metadata": {
    "collapsed": false
   }
  },
  {
   "cell_type": "code",
   "execution_count": 9,
   "outputs": [
    {
     "name": "stderr",
     "output_type": "stream",
     "text": [
      "Noise reduction: 100%|██████████| 1503/1503 [11:05<00:00,  2.26GRB/s]\n"
     ]
    }
   ],
   "source": [
    "df_list = swift.parallel_noise_reduction_fabada(names=GRB_names, save_data=True)\n",
    "del df_list, df, ax2, ax3, ax4, old_path"
   ],
   "metadata": {
    "collapsed": false,
    "ExecuteTime": {
     "end_time": "2023-04-30T06:50:28.253200555Z",
     "start_time": "2023-04-30T06:39:22.778992104Z"
    }
   }
  },
  {
   "cell_type": "markdown",
   "source": [
    "The errors in the noise reducing process are saved in a table in the `noise_data_path` folder with the name `Errors_{end}.txt`. You can read it using the `pandas` library:"
   ],
   "metadata": {
    "collapsed": false
   }
  },
  {
   "cell_type": "code",
   "execution_count": 10,
   "outputs": [
    {
     "name": "stdout",
     "output_type": "stream",
     "text": [
      "        GRB Name                                            Error\n",
      "0     GRB041219B         could not convert string to float: 'N/A'\n",
      "1      GRB050906         could not convert string to float: 'N/A'\n",
      "2      GRB060218         could not convert string to float: 'N/A'\n",
      "3      GRB060728         could not convert string to float: 'N/A'\n",
      "4      GRB061027         could not convert string to float: 'N/A'\n",
      "5      GRB061218         could not convert string to float: 'N/A'\n",
      "6      GRB070126         could not convert string to float: 'N/A'\n",
      "7      GRB080315         could not convert string to float: 'N/A'\n",
      "8     GRB080822B         could not convert string to float: 'N/A'\n",
      "9      GRB081017         could not convert string to float: 'N/A'\n",
      "10    GRB081105A                            No data outside T_100\n",
      "11    GRB101201A                            No data outside T_100\n",
      "12    GRB101225A         could not convert string to float: 'N/A'\n",
      "13    GRB111207A                            No data outside T_100\n",
      "14    GRB111208A                            No data outside T_100\n",
      "15    GRB120218A                            No data outside T_100\n",
      "16    GRB130216B                            No data outside T_100\n",
      "17    GRB130305A                            No data outside T_100\n",
      "18    GRB140311B         could not convert string to float: 'N/A'\n",
      "19  GRB140716A-2                            No data outside T_100\n",
      "20    GRB141102A                            No data outside T_100\n",
      "21    GRB150323B                            No data outside T_100\n",
      "22    GRB150424A  index 0 is out of bounds for axis 0 with size 0\n",
      "23    GRB150710B         could not convert string to float: 'N/A'\n",
      "24    GRB151107A         could not convert string to float: 'N/A'\n",
      "25    GRB151122A                            No data outside T_100\n",
      "26    GRB160501A         could not convert string to float: 'N/A'\n",
      "27    GRB160525A         could not convert string to float: 'N/A'\n",
      "28    GRB170524B                            No data outside T_100\n",
      "29    GRB171010B                            No data outside T_100\n",
      "30    GRB180103A                            No data outside T_100\n",
      "31    GRB200324A            could not convert string to float: ''\n"
     ]
    }
   ],
   "source": [
    "df_error = pd.read_table(os.path.join(swift.noise_data_path, f\"Errors_{swift.end}.txt\"), sep='\\t', comment='#', names=['GRB Name', 'Error'], header=None)\n",
    "GRB_errors = np.array(df_error['GRB Name'])\n",
    "print(df_error)"
   ],
   "metadata": {
    "collapsed": false,
    "ExecuteTime": {
     "end_time": "2023-04-30T06:50:28.257936505Z",
     "start_time": "2023-04-30T06:50:28.253632959Z"
    }
   }
  },
  {
   "cell_type": "markdown",
   "source": [
    "There are cases where **ClassiPyGRB** can't recover any data outside T_100, and therefore, it is not possible to estimate the RMS noise. **Those GRBs lacking data outside T_100 will be saved without any noise filter if `save_data` is enabled**. In this run, those GRBs are:"
   ],
   "metadata": {
    "collapsed": false
   }
  },
  {
   "cell_type": "code",
   "execution_count": 11,
   "outputs": [
    {
     "name": "stdout",
     "output_type": "stream",
     "text": [
      "['GRB081105A' 'GRB101201A' 'GRB111207A' 'GRB111208A' 'GRB120218A'\n",
      " 'GRB130216B' 'GRB130305A' 'GRB140716A-2' 'GRB141102A' 'GRB150323B'\n",
      " 'GRB151122A' 'GRB170524B' 'GRB171010B' 'GRB180103A']\n"
     ]
    }
   ],
   "source": [
    "df_errors2 = df_error[df_error['Error'].isin(['No data outside T_100'])]\n",
    "GRB_errors2 = np.asarray(df_errors2['GRB Name'])\n",
    "print(GRB_errors2)"
   ],
   "metadata": {
    "collapsed": false,
    "ExecuteTime": {
     "end_time": "2023-04-30T06:50:28.262504641Z",
     "start_time": "2023-04-30T06:50:28.258393175Z"
    }
   }
  },
  {
   "cell_type": "markdown",
   "source": [
    "If you want to use noise reduced data to perform T-Distributed Stochastic Neighbor Embedding (t-SNE), you have to remove those GRBs from the dataset. Also, we strongly recommend to remove two GRBs: GRB060510A and GRB131105A (at least for 64ms in July 2023 data). This is because they have non-zero data outside $T_{100}$, but inside $T_{100}$ have only zeros (check the [_BAT_Preprocess_](https://github.com/KenethGarcia/ClassiPyGRB/blob/8546f224e3b722a73440a1341270b271cbfdfeb5/docs/3.BAT_Preprocess.ipynb) notebook), Therefore, when `FABADA` is implemented in those GRBs, the zero data inside $T_{100}$ changes to non-zero values (all closes to zero, i.e., $1e-9$) and the `lc_limiter` instance does not flag these GRBs.\n",
    "\n",
    "Those GRBs errors from the dataset will be removed in the `parallel_lc_limiter` instance, so let's remove GRB060510A and GRB131105A:"
   ],
   "metadata": {
    "collapsed": false
   }
  },
  {
   "cell_type": "code",
   "execution_count": 6,
   "outputs": [
    {
     "name": "stdout",
     "output_type": "stream",
     "text": [
      "There are 1501 GRBs in the current working Swift/BAT dataset.\n"
     ]
    }
   ],
   "source": [
    "GRB_names = np.setdiff1d(GRB_names, ['GRB060510A', 'GRB131105A'])\n",
    "print(f'There are {len(GRB_names)} GRBs in the current working Swift/BAT dataset.')"
   ],
   "metadata": {
    "collapsed": false,
    "ExecuteTime": {
     "end_time": "2023-05-01T00:01:14.367628059Z",
     "start_time": "2023-05-01T00:01:14.350972430Z"
    }
   }
  },
  {
   "cell_type": "markdown",
   "source": [
    "## Pre-processing procedure\n",
    "With the noise-filtered data, we need to pre-process it to use on t-SNE. The main idea is to change the _original_data_path_ to the noise filtered data path and follows the same methods from the [_3.BAT_Preprocess_](https://github.com/KenethGarcia/ClassiPyGRB/blob/8546f224e3b722a73440a1341270b271cbfdfeb5/docs/3.BAT_Preprocess.ipynb) notebook:"
   ],
   "metadata": {
    "collapsed": false
   }
  },
  {
   "cell_type": "code",
   "execution_count": 13,
   "outputs": [
    {
     "name": "stderr",
     "output_type": "stream",
     "text": [
      "LC limiting: 100%|██████████| 1501/1501 [00:02<00:00, 692.19GRB/s]\n"
     ]
    },
    {
     "name": "stdout",
     "output_type": "stream",
     "text": [
      "        Names t_start  t_end       Error\n",
      "0  GRB041219B                 ValueError\n",
      "0   GRB050202   0.004  0.132    Length=2\n",
      "0  GRB050509B     0.0  0.028    Length=0\n",
      "0   GRB050906                 ValueError\n",
      "0   GRB050925  -0.036  0.068    Length=2\n",
      "0  GRB051105A  -0.004  0.064    Length=2\n",
      "0   GRB060218                 ValueError\n",
      "0  GRB060502B  -0.004  0.172    Length=2\n",
      "0   GRB060728                 ValueError\n",
      "0   GRB061027                 ValueError\n",
      "0   GRB061218                 ValueError\n",
      "0   GRB070126                 ValueError\n",
      "0   GRB070209     0.0  0.084    Length=2\n",
      "0  GRB070810B  -0.008  0.076    Length=1\n",
      "0   GRB070923  -0.004   0.04    Length=1\n",
      "0   GRB080315                 ValueError\n",
      "0  GRB080822B                 ValueError\n",
      "0   GRB081017                 ValueError\n",
      "0  GRB081105A     0.0    9.6  Only zeros\n",
      "0  GRB090417A  -0.004   0.08    Length=1\n",
      "0   GRB090515   0.008  0.056    Length=1\n",
      "0  GRB090621B  -0.028  0.144    Length=2\n",
      "0  GRB100206A  -0.008  0.124    Length=2\n",
      "0  GRB100628A  -0.004  0.036    Length=1\n",
      "0  GRB101201A     0.0   67.2  Only zeros\n",
      "0  GRB101225A                 ValueError\n",
      "0  GRB110420B  -0.004    0.1    Length=1\n",
      "0  GRB120218A -26.696  8.312  Only zeros\n",
      "0  GRB120305A     0.0  0.128    Length=2\n",
      "0  GRB130305A     0.0   57.6  Only zeros\n",
      "0  GRB130822A  -0.004  0.044    Length=0\n",
      "0  GRB140311B                 ValueError\n",
      "0  GRB140622A  -0.024  0.128    Length=2\n",
      "0  GRB141102A     0.0   14.4  Only zeros\n",
      "0  GRB150101A     0.0  0.068    Length=1\n",
      "0  GRB150101B     0.0  0.016    Length=1\n",
      "0  GRB150424A                 IndexError\n",
      "0  GRB150710B                 ValueError\n",
      "0  GRB151107A                 ValueError\n",
      "0  GRB160501A                 ValueError\n",
      "0  GRB160525A                 ValueError\n",
      "0  GRB160601A  -0.024   0.12    Length=2\n",
      "0  GRB161104A  -0.016    0.1    Length=2\n",
      "0  GRB170112A  -0.004  0.056    Length=1\n",
      "0  GRB170524A     0.0   0.12    Length=2\n",
      "0  GRB170906B -11.776  7.424    Length=0\n",
      "0  GRB180718A     0.0    0.1    Length=1\n",
      "0  GRB190326A     0.0  0.104    Length=1\n",
      "0  GRB200324A                 ValueError\n",
      "0  GRB210119A     0.0   0.08    Length=1\n"
     ]
    }
   ],
   "source": [
    "old_path = swift.original_data_path\n",
    "swift.original_data_path = swift.noise_data_path\n",
    "limited_data, GRB_names, errors = swift.parallel_lc_limiter(GRB_names)\n",
    "print(errors)"
   ],
   "metadata": {
    "collapsed": false,
    "ExecuteTime": {
     "end_time": "2023-04-30T06:50:31.395968371Z",
     "start_time": "2023-04-30T06:50:28.303756023Z"
    }
   }
  },
  {
   "cell_type": "markdown",
   "source": [
    "Normalizing data:"
   ],
   "metadata": {
    "collapsed": false
   }
  },
  {
   "cell_type": "code",
   "execution_count": 14,
   "outputs": [
    {
     "name": "stderr",
     "output_type": "stream",
     "text": [
      "LC Normalizing: 100%|██████████| 1451/1451 [00:00<00:00, 1999.36GRB/s]\n"
     ]
    }
   ],
   "source": [
    "normalized_data = swift.parallel_lc_normalize(limited_data)  # Normalizing all light curves\n",
    "del limited_data  # Delete unused variable"
   ],
   "metadata": {
    "collapsed": false,
    "ExecuteTime": {
     "end_time": "2023-04-30T06:50:32.978050815Z",
     "start_time": "2023-04-30T06:50:31.395630335Z"
    }
   }
  },
  {
   "cell_type": "markdown",
   "source": [
    "Zero-padding:"
   ],
   "metadata": {
    "collapsed": false
   }
  },
  {
   "cell_type": "code",
   "execution_count": 15,
   "outputs": [
    {
     "name": "stderr",
     "output_type": "stream",
     "text": [
      "LC Zero-Padding: 100%|██████████| 1451/1451 [00:01<00:00, 965.99GRB/s] \n"
     ]
    }
   ],
   "source": [
    "zero_padded_data = swift.parallel_zero_pad(normalized_data)\n",
    "del normalized_data  # Delete unused variable"
   ],
   "metadata": {
    "collapsed": false,
    "ExecuteTime": {
     "end_time": "2023-04-30T06:50:35.845520785Z",
     "start_time": "2023-04-30T06:50:32.979119345Z"
    }
   }
  },
  {
   "cell_type": "markdown",
   "source": [
    "Concatenating data:"
   ],
   "metadata": {
    "collapsed": false
   }
  },
  {
   "cell_type": "code",
   "execution_count": 16,
   "outputs": [
    {
     "name": "stderr",
     "output_type": "stream",
     "text": [
      "Concatenating: 100%|██████████| 1451/1451 [00:01<00:00, 805.10GRB/s]\n"
     ]
    }
   ],
   "source": [
    "concatenated_data = swift.parallel_concatenate(zero_padded_data)  # Concatenate data without DFT"
   ],
   "metadata": {
    "collapsed": false,
    "ExecuteTime": {
     "end_time": "2023-04-30T06:50:39.045230411Z",
     "start_time": "2023-04-30T06:50:35.887560863Z"
    }
   }
  },
  {
   "cell_type": "markdown",
   "source": [
    "Perform DFT:"
   ],
   "metadata": {
    "collapsed": false
   }
  },
  {
   "cell_type": "code",
   "execution_count": 17,
   "outputs": [
    {
     "name": "stderr",
     "output_type": "stream",
     "text": [
      "Performing DFT: 100%|██████████| 1451/1451 [00:01<00:00, 885.28GRB/s] \n"
     ]
    }
   ],
   "source": [
    "pre_processing_data = swift.parallel_dft_spectrum(concatenated_data)"
   ],
   "metadata": {
    "collapsed": false,
    "ExecuteTime": {
     "end_time": "2023-04-30T06:50:41.840073859Z",
     "start_time": "2023-04-30T06:50:39.045501291Z"
    }
   }
  },
  {
   "cell_type": "markdown",
   "source": [
    "Finally, save the results:"
   ],
   "metadata": {
    "collapsed": false
   }
  },
  {
   "cell_type": "code",
   "execution_count": 18,
   "outputs": [],
   "source": [
    "swift.save_results(f'SWIFT_Noise_Reduced_data_{swift.res}res_{\"\".join(str(b) for b in swift.n_bands)}bands_DFT_True.npz', names=GRB_names, data=pre_processing_data)  # Save Data with DFT\n",
    "swift.save_results(f'SWIFT_Noise_Reduced_data_{swift.res}res_{\"\".join(str(b) for b in swift.n_bands)}bands_DFT_False.npz', names=GRB_names, data=concatenated_data)  # Save Data without DFT"
   ],
   "metadata": {
    "collapsed": false,
    "ExecuteTime": {
     "end_time": "2023-04-30T06:50:43.548243646Z",
     "start_time": "2023-04-30T06:50:41.842005404Z"
    }
   }
  }
 ],
 "metadata": {
  "kernelspec": {
   "display_name": "Python 3",
   "language": "python",
   "name": "python3"
  },
  "language_info": {
   "codemirror_mode": {
    "name": "ipython",
    "version": 2
   },
   "file_extension": ".py",
   "mimetype": "text/x-python",
   "name": "python",
   "nbconvert_exporter": "python",
   "pygments_lexer": "ipython2",
   "version": "2.7.6"
  }
 },
 "nbformat": 4,
 "nbformat_minor": 0
}
